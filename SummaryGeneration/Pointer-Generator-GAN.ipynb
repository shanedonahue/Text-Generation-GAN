{
 "cells": [
  {
   "cell_type": "markdown",
   "id": "768eee96",
   "metadata": {
    "pycharm": {
     "name": "#%% md\n"
    }
   },
   "source": [
    "# Adversarial Training on Pointer Generator\n",
    "## Introduction\n",
    "    The beginning of the introduction. "
   ]
  },
  {
   "cell_type": "markdown",
   "id": "249b20d6",
   "metadata": {
    "pycharm": {
     "name": "#%% md\n"
    }
   },
   "source": [
    "## Table Of Contents:\n",
    "* [Load Data & Initialize Model](#load-initialize)\n",
    "* [Example Generation](#example-generation)\n",
    "* [Train Pointer Generator](#train-global-1)\n",
    "    * [Without Coverage](#train-global-1-sub-1)\n",
    "        * [Generate Tokens](#gen-global-1-sub-1)\n",
    "        * [Rouge Evaluation](#rouge-global-1-sub-1)\n",
    "    * [With Coverage](#train-global-1-sub-2)\n",
    "        * [Generate Tokens](#gen-global-1-sub-2)\n",
    "        * [Rouge Evaluation](#rouge-global-1-sub-2)\n",
    "* [Train Generative Adversarial Network](#train-global-2)\n",
    "    * [Pretrain Discriminator](#train-global-2-sub-1)\n",
    "        * [Generate Tokens](#gen-global-2-sub-1)\n",
    "        * [Rouge Evaluation](#rouge-global-2-sub-1)\n",
    "    * [Adversarial Training](#train-global-2-sub-2)\n",
    "        * [Generate Tokens](#gen-global-2-sub-2)\n",
    "        * [Rouge Evaluation](#rouge-global-2-sub-2)\n",
    "* [Analysis & Conclusion](#analysis-conclusion)\n",
    "* [Limitations & Future Work](#limit-future)\n"
   ]
  },
  {
   "cell_type": "markdown",
   "id": "5b433a88",
   "metadata": {
    "pycharm": {
     "name": "#%% md\n"
    }
   },
   "source": [
    "## Load Data & Initialize Model <a class=\"anchor\" id=\"load-initialize\"></a>"
   ]
  },
  {
   "cell_type": "code",
   "execution_count": 1,
   "id": "fe09c6e1",
   "metadata": {
    "pycharm": {
     "name": "#%%\n"
    },
    "scrolled": false
   },
   "outputs": [
    {
     "name": "stderr",
     "output_type": "stream",
     "text": [
      "A:\\SHANE_STUFF\\Text-Generation-GAN\\SummaryGeneration\\model.py:214: UserWarning: `tf.nn.rnn_cell.LSTMCell` is deprecated and will be removed in a future version. This class is equivalent as `tf.keras.layers.LSTMCell`, and will be replaced by that in Tensorflow 2.0.\n",
      "  self.enc_fw_unit = tf.compat.v1.nn.rnn_cell.LSTMCell(self.num_unit, name='encoder_forward_cell')\n",
      "A:\\SHANE_STUFF\\Text-Generation-GAN\\SummaryGeneration\\model.py:215: UserWarning: `tf.nn.rnn_cell.LSTMCell` is deprecated and will be removed in a future version. This class is equivalent as `tf.keras.layers.LSTMCell`, and will be replaced by that in Tensorflow 2.0.\n",
      "  self.enc_bw_unit = tf.compat.v1.nn.rnn_cell.LSTMCell(self.num_unit, name='encoder_backward_cell')\n",
      "A:\\SHANE_STUFF\\Text-Generation-GAN\\SummaryGeneration\\model.py:250: UserWarning: `tf.nn.rnn_cell.LSTMCell` is deprecated and will be removed in a future version. This class is equivalent as `tf.keras.layers.LSTMCell`, and will be replaced by that in Tensorflow 2.0.\n",
      "  self.dec_unit = tf.compat.v1.nn.rnn_cell.LSTMCell(self.num_unit, state_is_tuple=False, name='decoder_cell')\n",
      "A:\\SHANE_STUFF\\Text-Generation-GAN\\SummaryGeneration\\model.py:462: UserWarning: `tf.nn.rnn_cell.LSTMCell` is deprecated and will be removed in a future version. This class is equivalent as `tf.keras.layers.LSTMCell`, and will be replaced by that in Tensorflow 2.0.\n",
      "  self.dis_enc_unit = tf.compat.v1.nn.rnn_cell.LSTMCell(self.num_unit, name='dis_enc_unit')\n",
      "A:\\SHANE_STUFF\\Text-Generation-GAN\\SummaryGeneration\\model.py:464: UserWarning: `tf.nn.rnn_cell.LSTMCell` is deprecated and will be removed in a future version. This class is equivalent as `tf.keras.layers.LSTMCell`, and will be replaced by that in Tensorflow 2.0.\n",
      "  self.dis_dec_unit = tf.compat.v1.nn.rnn_cell.LSTMCell(self.num_unit, name='dis_dec_unit')\n",
      "A:\\SHANE_STUFF\\Text-Generation-GAN\\SummaryGeneration\\model.py:495: UserWarning: `tf.nn.rnn_cell.LSTMCell` is deprecated and will be removed in a future version. This class is equivalent as `tf.keras.layers.LSTMCell`, and will be replaced by that in Tensorflow 2.0.\n",
      "  self.bas_enc_unit = tf.compat.v1.nn.rnn_cell.LSTMCell(self.num_unit, name='bas_enc_unit')\n",
      "A:\\SHANE_STUFF\\Text-Generation-GAN\\SummaryGeneration\\model.py:497: UserWarning: `tf.nn.rnn_cell.LSTMCell` is deprecated and will be removed in a future version. This class is equivalent as `tf.keras.layers.LSTMCell`, and will be replaced by that in Tensorflow 2.0.\n",
      "  self.bas_dec_unit = tf.compat.v1.nn.rnn_cell.LSTMCell(self.num_unit, name='bas_dec_unit')\n"
     ]
    },
    {
     "name": "stdout",
     "output_type": "stream",
     "text": [
      "Restore Model from ./model/pointer_cov_supervised-1900\n"
     ]
    }
   ],
   "source": [
    "import numpy as np\n",
    "from data import Data\n",
    "from model import SummaryModel\n",
    "import argparse\n",
    "\n",
    "import tensorflow as tf\n",
    "\n",
    "tf.compat.v1.disable_eager_execution()\n",
    "tf.compat.v1.logging.set_verbosity('ERROR')\n",
    "\n",
    "parser = argparse.ArgumentParser(description = 'Train/Test summarization model', formatter_class = argparse.ArgumentDefaultsHelpFormatter)\n",
    "\n",
    "# Import Setting\n",
    "parser.add_argument(\"--doc_file\", type = str, default = './data/doc.p', help = 'path to document file')\n",
    "parser.add_argument(\"--vocab_file\", type = str, default = './data/vocab.p', help = 'path to vocabulary file')\n",
    "parser.add_argument(\"--emb_file\", type = str, default = './data/emb.p', help = 'path to embedding file')\n",
    "parser.add_argument(\"--src_time\", type = int, default = 200, help = 'maximal # of time steps in source text')\n",
    "parser.add_argument(\"--sum_time\", type = int, default = 50, help = 'maximal # of time steps in summary')\n",
    "parser.add_argument(\"--max_oov_bucket\", type = int, default = 280, help = 'maximal # of out-of-vocabulary word in one summary')\n",
    "parser.add_argument(\"--train_ratio\", type = float, default = 0.8, help = 'ratio of training data')\n",
    "parser.add_argument(\"--seed\", type = int, default = 888, help = 'seed for spliting data')\n",
    "\n",
    "# Saving Setting\n",
    "parser.add_argument(\"--log\", type = str, default = './log/', help = 'logging directory')\n",
    "parser.add_argument(\"--save\", type = str, default = './model/', help = 'model saving directory')\n",
    "parser.add_argument(\"--checkpoint\", type = str, help = 'path to checkpoint point')\n",
    "parser.add_argument(\"--autosearch\", type = bool, default = False, help = \"[NOT AVAILABLE] Set 'True' if searching for latest checkpoint\")\n",
    "parser.add_argument(\"--save_interval\", type = int, default = 1900, help = \"Save interval for training\")\n",
    "\n",
    "# Hyperparameter Setting\n",
    "parser.add_argument(\"--batch_size\", type = int, default = 16, help = 'number of samples in one batch')\n",
    "parser.add_argument(\"--gen_lr\", type = float, default = 1e-3, help = 'learning rate for generator')\n",
    "parser.add_argument(\"--dis_lr\", type = float, default = 1e-3, help = 'learning rate for discriminator')\n",
    "parser.add_argument(\"--cov_weight\", type = float, default = 1e-3, help = 'learning rate for coverage')\n",
    "\n",
    "params = vars(parser.parse_args([]))\n",
    "\n",
    "params['load_pretrain'] = True\n",
    "# 1900 no coverage\n",
    "# \n",
    "params['checkpoint'] = './model/pointer_cov_supervised-1900' # Uncomment when requiring reloading model\n",
    "\n",
    "model = SummaryModel(**params)\n",
    "data = Data(**params)\n"
   ]
  },
  {
   "cell_type": "markdown",
   "id": "f6e61c71",
   "metadata": {},
   "source": [
    "## Example Generation <a class=\"anchor\" id=\"example-generation\"></a>"
   ]
  },
  {
   "cell_type": "code",
   "execution_count": 2,
   "id": "3a3b8db2",
   "metadata": {
    "pycharm": {
     "name": "#%%\n"
    },
    "scrolled": true
   },
   "outputs": [
    {
     "name": "stdout",
     "output_type": "stream",
     "text": [
      "0.48081478\n",
      "0.47486126\n",
      "daw aung san suu kyi appeared video link yangon tell audience hong kong would seek broaden audience country since released house arrest<END>\n",
      "\n",
      "Dissident Plans a More Active Role in Myanmar<END>\n",
      "\n",
      "[['A', ' (OOV)', 'S', 'a', 's', 'e', ' (OOV)', 'a', 'n', 'd', ' (OOV)', 'R', 'e', 'a', 'd', 'e', 'r', ' (OOV)', 'i', 'n', ' (OOV)', 'A', 'f', 'g', 'h', 'a', 'n', 'i', 's', 't', 'e', 'r'], ['A', ' (OOV)', 'S', 'a', 's', 'e', ' (OOV)', 'a', 'n', 'd', ' (OOV)', 'R', 'a', 's', 'e', ' (OOV)', 'a', 'n', 'd', ' (OOV)', 'R', 'a', 's', 'e', ' (OOV)', 'a', 'n', 'd', ' (OOV)', 'R', 'a', 's', 'e', ' (OOV)', 'a', 'n', 'd', ' (OOV)', 'R', 'a', 's', 'e', ' (OOV)', 'a', 'n', 'd'], ['A', ' (OOV)', 'S', 'a', 's', 'e', ' (OOV)', 'a', 'n', 'd', ' (OOV)', 'R', 'a', 's', 'e', ' (OOV)', 'a', 'n', 'd', ' (OOV)', 'R', 'a', 's', 'e', ' (OOV)', 'a', 'n', 'd', ' (OOV)', 'R', 'a', 's', 'e', ' (OOV)', 'a', 'n', 'd', ' (OOV)', 'R', 'a', 's', 'e', ' (OOV)', 'a', 'n', 'd', ' (OOV)', 'T'], ['A', ' (OOV)', 'S', 'a', 's', 'e', ' (OOV)', 'a', 'n', 'd', ' (OOV)', 'R', 'a', 's', 'e', ' (OOV)', 'a', 'n', 'd', ' (OOV)', 'R', 'a', 's', 'e', ' (OOV)', 'a', 'n', 'd', ' (OOV)', 'R', 'a', 's', 'e', ' (OOV)', 'a', 'n', 'd', ' (OOV)', 'R', 'a', 's', 'e', ' (OOV)', 'a', 'n', 'd'], ['A', ' (OOV)', 'S', 'a', 's', 'e', ' (OOV)', 'a', 'n', 'd', ' (OOV)', 'R', 'a', 's', 'e', ' (OOV)', 'a', 'n', 'd', ' (OOV)', 'R', 'a', 's', 'e', ' (OOV)', 'a', 'n', 'd', ' (OOV)', 'R', 'a', 's', 'e', ' (OOV)', 'a', 'n', 'd', ' (OOV)', 'R', 'a', 'n', 'i', 's', 't', 'a', 'n'], ['A', ' (OOV)', 'S', 'a', 's', 'e', ' (OOV)', 'a', 'n', 'd', ' (OOV)', 'R', 'a', 's', 'e', ' (OOV)', 'a', 'n', 'd', ' (OOV)', 'R', 'a', 's', 'e', ' (OOV)', 'a', 'n', 'd', ' (OOV)', 'R', 'a', 's', 'e', ' (OOV)', 'a', 'n', 'd', ' (OOV)', 'R', 'a', 'n', 'i', 's', 't', 'a', 'n'], ['A', ' (OOV)', 'S', 'a', 's', 'e', ' (OOV)', 'a', 'n', 'd', ' (OOV)', 'R', 'a', 's', 'e', ' (OOV)', 'a', 'n', 'd', ' (OOV)', 'R', 'a', 's', 'e', ' (OOV)', 'a', 'n', 'd', ' (OOV)', 'R', 'a', 's', 'e', ' (OOV)', 'a', 'n', 'd', ' (OOV)', 'R', 'a', 's', 'e', ' (OOV)', 'a', 'n', 'd'], ['A', ' (OOV)', 'S', 'a', 's', 'e', ' (OOV)', 'a', 'n', 'd', ' (OOV)', 'R', 'a', 's', 'e', ' (OOV)', 'a', 'n', 'd', ' (OOV)', 'R', 'a', 's', 'e', ' (OOV)', 'a', 'n', 'd', ' (OOV)', 'R', 'a', 's', 'e', ' (OOV)', 'a', 'n', 'd', ' (OOV)', 'R', 'a', 's', 'e', ' (OOV)', 'a', 'n', 'd'], ['A', ' (OOV)', 'S', 'a', 's', 'e', ' (OOV)', 'a', 'n', 'd', ' (OOV)', 'R', 'e', 'a', 'd', 'e', 'r', ' (OOV)', 'i', 'n', ' (OOV)', 'A', 'f', 'g', 'h', 'a', 'n', 'i', 's', 't', 'e', 'r'], ['T', 'r', 'a', 'n', 'i', 'n', 'g', ' (OOV)', 't', 'o', ' (OOV)', 'S', 'e', 'a', 'd', 'e', 'r', 's', ' (OOV)', 'i', 'n', ' (OOV)', 'A', 'f', 'g', 'h', 'a', 'n', 'i', 's', 't', 'e', 'r'], ['A', ' (OOV)', 'S', 'a', 's', 'e', ' (OOV)', 'a', 'n', 'd', ' (OOV)', 'R', 'a', 's', 'e', ' (OOV)', 'a', 'n', 'd', ' (OOV)', 'R', 'a', 's', 'e', ' (OOV)', 'a', 'n', 'd', ' (OOV)', 'R', 'a', 's', 'e', ' (OOV)', 'a', 'n', 'd', ' (OOV)', 'R', 'a', 'n', 'i', 's', 't', 'a', 'n'], ['T', 'r', 'a', 'n', 'i', 'n', 'g', ' (OOV)', 't', 'o', ' (OOV)', 'R', 'e', 'a', 'd', 'e', 'r', 's', ' (OOV)', 'i', 'n', ' (OOV)', 'A', 'f', 'g', 'h', 'a', 'n', 'i', 's', 't', 'e', 'r'], ['A', ' (OOV)', 'S', 'a', 's', 'e', ' (OOV)', 'a', 'n', 'd', ' (OOV)', 'R', 'a', 's', 'e', ' (OOV)', 'a', 'n', 'd', ' (OOV)', 'R', 'a', 's', 'e', ' (OOV)', 'a', 'n', 'd', ' (OOV)', 'R', 'a', 's', 'e', ' (OOV)', 'a', 'n', 'd', ' (OOV)', 'R', 'a', 's', 'e', ' (OOV)', 'o', 'f', ' (OOV)'], ['A', ' (OOV)', 'S', 'a', 's', 'e', ' (OOV)', 'a', 'n', 'd', ' (OOV)', 'R', 'a', 's', 'e', ' (OOV)', 'a', 'n', 'd', ' (OOV)', 'R', 'a', 's', 'e', ' (OOV)', 'a', 'n', 'd', ' (OOV)', 'R', 'a', 's', 'e', ' (OOV)', 'a', 'n', 'd', ' (OOV)', 'R', 'a', 's', 'e', ' (OOV)', 'o', 'f', ' (OOV)'], ['A', ' (OOV)', 'S', 'a', 's', 'e', ' (OOV)', 'a', 'n', 'd', ' (OOV)', 'R', 'a', 's', 'e', ' (OOV)', 'a', 'n', 'd', ' (OOV)', 'R', 'a', 's', 'e', ' (OOV)', 'a', 'n', 'd', ' (OOV)', 'R', 'a', 's', 'e', ' (OOV)', 'a', 'n', 'd', ' (OOV)', 'R', 'a', 's', 'e', ' (OOV)', 'a', 'n', 'd'], ['A', ' (OOV)', 'S', 'a', 's', 'e', ' (OOV)', 'a', 'n', 'd', ' (OOV)', 'R', 'a', 's', 'e', ' (OOV)', 'a', 'n', 'd', ' (OOV)', 'R', 'a', 's', 'e', ' (OOV)', 'a', 'n', 'd', ' (OOV)', 'R', 'a', 's', 'e', ' (OOV)', 'a', 'n', 'd', ' (OOV)', 'R', 'a', 's', 'e', ' (OOV)', 'a', 'n', 'd']]\n"
     ]
    }
   ],
   "source": [
    "train_data = data.get_next_epoch()\n",
    "test_data = data.get_next_epoch_test()\n",
    "src, ref, gen, tokens, scores, attens, gt_attens = None, None, None, None, None, None, None\n",
    "for feed_dict in train_data:\n",
    "    real, fake, real_len, fake_len = model.sess.run(\n",
    "        [model.real_reward, model.fake_reward, model.sum_len, model.tokens_len], feed_dict=feed_dict)\n",
    "    print(np.mean(real[1, 0:int(real_len[1])]))\n",
    "    print(np.mean(fake[1, 0:int(fake_len[1])]))\n",
    "    break\n",
    "\n",
    "for feed_dict in test_data:\n",
    "    tokens, scores, attens = model.beam_search(feed_dict)\n",
    "    src, ref, gen = data.id2word(feed_dict, tokens)\n",
    "    gt_attens = model.sess.run(model.atten_dist, feed_dict = feed_dict)\n",
    "#     print(src, ref, gen, gt_attens)\n",
    "    x = 0\n",
    "    print (\"\".join(src[x]).replace(\"(OOV)\",\"\"), end = '\\n\\n')\n",
    "    print (\"\".join(ref[x]).replace(\"(OOV)\",\"\"), end = '\\n\\n')\n",
    "    print (gen)\n",
    "#     for i in range(len(src)):\n",
    "#         print (\"\".join(gen[x][i]))\n",
    "    break"
   ]
  },
  {
   "cell_type": "markdown",
   "id": "4e42c570",
   "metadata": {
    "pycharm": {
     "name": "#%% md\n"
    }
   },
   "source": [
    "## Train Pointer Generator<a class=\"anchor\" id=\"train-global-1\"></a>\n",
    "### Train without coverage<a class=\"anchor\" id=\"train-global-1-sub-1\"></a>"
   ]
  },
  {
   "cell_type": "code",
   "execution_count": 3,
   "id": "5727c9ae",
   "metadata": {
    "pycharm": {
     "name": "#%%\n"
    },
    "scrolled": false
   },
   "outputs": [
    {
     "name": "stdout",
     "output_type": "stream",
     "text": [
      "Start from step 4\n",
      "Train Epoch 0\n"
     ]
    },
    {
     "data": {
      "application/vnd.jupyter.widget-view+json": {
       "model_id": "518d50ee7b6d4f3fb11302612dd691d9",
       "version_major": 2,
       "version_minor": 0
      },
      "text/plain": [
       "  0%|          | 0/1908 [00:00<?, ?it/s]"
      ]
     },
     "metadata": {},
     "output_type": "display_data"
    }
   ],
   "source": [
    "train_max_epoch = 1\n",
    "print (f'Start from step {model.sess.run(model.gen_global_step)}')\n",
    "for i in range(train_max_epoch):\n",
    "    print (f'Train Epoch {i}')\n",
    "    train_data = data.get_next_epoch()\n",
    "    model.train_one_epoch(train_data, data.n_train_batch, coverage_on = False)"
   ]
  },
  {
   "cell_type": "markdown",
   "id": "fffc6baa",
   "metadata": {
    "pycharm": {
     "name": "#%% md\n"
    }
   },
   "source": [
    "#### Generate tokens <a class=\"anchor\" id=\"gen-global-1-sub-1\"></a>"
   ]
  },
  {
   "cell_type": "code",
   "execution_count": 93,
   "id": "345043fa",
   "metadata": {
    "pycharm": {
     "name": "#%%\n"
    }
   },
   "outputs": [],
   "source": [
    "def generate_top_k_tokens(coverage, top_k=1):\n",
    "    test_data = data.get_next_epoch_test()\n",
    "    src = [[] for i in range(top_k)]\n",
    "    ref = [[] for i in range(top_k)]\n",
    "    gen = [[] for i in range(top_k)]\n",
    "    for feed_dict in test_data:\n",
    "        tokens, scores, attens = model.beam_search(feed_dict, coverage_on = coverage, top_k = top_k)\n",
    "        if top_k == 1:\n",
    "            tokens = [tokens]\n",
    "            scores = [scores]\n",
    "        for i in range(top_k):\n",
    "            src[i], ref[i], gen[i] = data.id2word(feed_dict, tokens[i])\n",
    "#         feed_dict['coverage_on:0'] = coverage\n",
    "#         gt_attens = model.sess.run(model.atten_dist, feed_dict = feed_dict)\n",
    "        break\n",
    "    return src, ref, gen, scores\n",
    "\n",
    "def clean_generated_tokens(src, ref, gen):\n",
    "    src_str_list = [\"\".join(src[0][i]).replace(\"(OOV)\", \"\") for i in range(len(src[0]))]\n",
    "    ref_str_list = [\"\".join(ref[0][i]).replace(\"(OOV)\", \"\") for i in range(len(ref[0]))]\n",
    "    gen_str_list = []\n",
    "    for i in range(len(test1_gen)):\n",
    "        gen_str_list.append([\"\".join(gen[i][j]).replace(\"(OOV)\",\"\") for j in range(len(gen[i]))])\n",
    "    return src_str_list, ref_str_list, gen_str_list\n",
    "\n",
    "def print_cleaned_tokens(src, ref, gen, scores):\n",
    "    for i in range(len(gen)):\n",
    "        print (\"Batch: \" + str(i))\n",
    "        for j in range(len(gen[i])):\n",
    "            print(\"\\tGeneration: \" + str(j))\n",
    "            print (\"\\t\\tAbstract: \" + src[j])\n",
    "            print (\"\\t\\tTitle: \"+ ref[j])\n",
    "            print(\"\\t\\tGenerated: \" + gen[i][j])\n",
    "            print(\"\\t\\tScore: \" + str(scores[i][j]))"
   ]
  },
  {
   "cell_type": "code",
   "execution_count": 74,
   "id": "c6094fff",
   "metadata": {
    "pycharm": {
     "name": "#%%\n"
    },
    "scrolled": true
   },
   "outputs": [
    {
     "name": "stdout",
     "output_type": "stream",
     "text": [
      "Batch: 0\n",
      "\tGeneration: 0\n",
      "\t\tAbstract: nuclear powered american submarine collided navy warship early friday strait hormuz narrow passage much world oil must pas<END>\n",
      "\t\tTitle: 2 Navy Vessels Collide in Strait of Hormuz<END>\n",
      "\t\tGenerated: A Sase and Rase and Rase and Rase and Rase of \n",
      "\t\tScore: -1.1149016847001745\n",
      "\tGeneration: 1\n",
      "\t\tAbstract: barack obama said israel interest find peace palestinian said israel able defend<END>\n",
      "\t\tTitle: 2 Navy Vessels Collide in Strait of Hormuz<END>\n",
      "\t\tGenerated: A Sase and Rase and Rase and Rase and Rase and T\n",
      "\t\tScore: -1.0473748031927614\n",
      "\tGeneration: 2\n",
      "\t\tAbstract: ruling african national congress steamrolling big election victory third ballot counted<END>\n",
      "\t\tTitle: 2 Navy Vessels Collide in Strait of Hormuz<END>\n",
      "\t\tGenerated: A Sase and Rase and Rase and Rase and Rase and\n",
      "\t\tScore: -1.11961932892495\n",
      "\tGeneration: 3\n",
      "\t\tAbstract: ultra orthodox israeli protest plan include community military draft arguing study torah important defending israel carrying weapon army<END>\n",
      "\t\tTitle: 2 Navy Vessels Collide in Strait of Hormuz<END>\n",
      "\t\tGenerated: A Sase and Rase and Rase and Rase and Rase and\n",
      "\t\tScore: -1.1125017531374668\n",
      "\tGeneration: 4\n",
      "\t\tAbstract: accord militant pakistani army seems allowed taliban free rein swat<END>\n",
      "\t\tTitle: 2 Navy Vessels Collide in Strait of Hormuz<END>\n",
      "\t\tGenerated: A Sase and Rase and Rase and Rase and Rase of \n",
      "\t\tScore: -1.0695390092565658\n",
      "\tGeneration: 5\n",
      "\t\tAbstract: technical issue led rough landing european space agency philae lander made settled comet<END>\n",
      "\t\tTitle: 2 Navy Vessels Collide in Strait of Hormuz<END>\n",
      "\t\tGenerated: A Sase and Rase and Rase and Rase and Rase of \n",
      "\t\tScore: -1.1111015969134392\n",
      "\tGeneration: 6\n",
      "\t\tAbstract: arizona boundary mexico considered busiest border battlefront official declared make last stand<END>\n",
      "\t\tTitle: 2 Navy Vessels Collide in Strait of Hormuz<END>\n",
      "\t\tGenerated: A Sase and Rase and Rase and Rase and Ranistan\n",
      "\t\tScore: -1.1236175374781832\n",
      "\tGeneration: 7\n",
      "\t\tAbstract: see full result map 2020 presidential election maine<END>\n",
      "\t\tTitle: 2 Navy Vessels Collide in Strait of Hormuz<END>\n",
      "\t\tGenerated: A Sase and Rase and Rase and Rase and Rase of \n",
      "\t\tScore: -1.114827663340467\n",
      "\tGeneration: 8\n",
      "\t\tAbstract: age old process influencing opinion word mouth still hold true new hampshire local exchange idea opinion effort sway one another voting tuesday<END>\n",
      "\t\tTitle: 2 Navy Vessels Collide in Strait of Hormuz<END>\n",
      "\t\tGenerated: A Saster in Sanistan at the Seaders in Saristan \n",
      "\t\tScore: -1.1986602471799266\n",
      "\tGeneration: 9\n",
      "\t\tAbstract: former intelligence chief abdullah al senussi extradited libya mauritania wednesday handing victory new tripoli government<END>\n",
      "\t\tTitle: 2 Navy Vessels Collide in Strait of Hormuz<END>\n",
      "\t\tGenerated: A Sase and Rase and Rase and Rase and Rase and\n",
      "\t\tScore: -1.1283768998815658\n",
      "\tGeneration: 10\n",
      "\t\tAbstract: arm transfer southern sudan soon vote secession revealed somali pirate<END>\n",
      "\t\tTitle: 2 Navy Vessels Collide in Strait of Hormuz<END>\n",
      "\t\tGenerated: A Sase and Rase and Rase and Rase and Rase and T\n",
      "\t\tScore: -1.06398648631816\n",
      "\tGeneration: 11\n",
      "\t\tAbstract: hamas militant fired dozen shell southern israel escalating tension along israel gaza border<END>\n",
      "\t\tTitle: 2 Navy Vessels Collide in Strait of Hormuz<END>\n",
      "\t\tGenerated: A Sase and Rase and Rase and Rase and Rase of \n",
      "\t\tScore: -1.08660434154754\n",
      "\tGeneration: 12\n",
      "\t\tAbstract: though case ethan couch captured widespread attention many fugitive decade ago faded headline remain concern law enforcement official<END>\n",
      "\t\tTitle: 2 Navy Vessels Collide in Strait of Hormuz<END>\n",
      "\t\tGenerated: A Sase and Rase and Rase and Rase and Rase and\n",
      "\t\tScore: -1.1185679334275267\n",
      "\tGeneration: 13\n",
      "\t\tAbstract: inside growing influence completely anonymous campaign contribution impact 2014 election<END>\n",
      "\t\tTitle: 2 Navy Vessels Collide in Strait of Hormuz<END>\n",
      "\t\tGenerated: A Saster in Afghanist |or Saresters in Afghaning\n",
      "\t\tScore: -1.1985371648048868\n",
      "\tGeneration: 14\n",
      "\t\tAbstract: eve election decide replacement american president put troop new york time took informal snapshot iraqi living working green zone<END>\n",
      "\t\tTitle: 2 Navy Vessels Collide in Strait of Hormuz<END>\n",
      "\t\tGenerated: Traning to Readers in Afghaning to Raristanister\n",
      "\t\tScore: -1.220322122379225\n",
      "\tGeneration: 15\n",
      "\t\tAbstract: among maria da graças foster oil company chief executive handpicked president dilma rousseff<END>\n",
      "\t\tTitle: 2 Navy Vessels Collide in Strait of Hormuz<END>\n",
      "\t\tGenerated: A Sase and Rase and Rase and Rase and Ranistan\n",
      "\t\tScore: -1.0957964633373505\n"
     ]
    }
   ],
   "source": [
    "test1_src, test1_ref, test1_gen, test1_scores = generate_top_k_tokens(coverage=False, top_k=1)\n",
    "test1_src_list, test1_ref_list, test1_gen_list = clean_generated_tokens(test1_src, test1_ref, test1_gen)\n",
    "print_cleaned_tokens(test1_src_list, test1_ref_list, test1_gen_list, test1_scores)"
   ]
  },
  {
   "cell_type": "markdown",
   "id": "4270aac8",
   "metadata": {
    "pycharm": {
     "name": "#%% md\n"
    }
   },
   "source": [
    "#### Rouge Evaluation<a class=\"anchor\" id=\"rouge-global-1-sub-1\"></a>"
   ]
  },
  {
   "cell_type": "code",
   "execution_count": 79,
   "id": "33171bba",
   "metadata": {
    "pycharm": {
     "name": "#%%\n"
    }
   },
   "outputs": [],
   "source": [
    "from rouge import Rouge\n",
    "from tqdm import tqdm_notebook\n",
    "rouge = Rouge()\n",
    "\n",
    "def generate_evaluation_sets(coverage):\n",
    "    refs = []\n",
    "    gens = []\n",
    "    cnt = 0\n",
    "    test_n = min(data.n_test_batch, 50)\n",
    "    test_data = data.get_next_epoch_test()\n",
    "    for feed_dict in tqdm_notebook(test_data, total = test_n):\n",
    "        tokens, scores, attens = model.beam_search(feed_dict, coverage_on = coverage)\n",
    "        # sample_tokens = model.sess.run(model.tokens, feed_dict = feed_dict)\n",
    "        src, ref, gen = data.id2word(feed_dict, tokens)\n",
    "        for i in range(len(ref)):\n",
    "            refs.append(\" \".join(ref[i][:-1]))\n",
    "            gens.append(\" \".join(gen[i][:-1]))\n",
    "        cnt += 1\n",
    "        if cnt > test_n:\n",
    "            break\n",
    "    new_gens = []\n",
    "    new_refs = []\n",
    "    for i in range(len(gens)):\n",
    "        if not (gens[i] == \"\"):\n",
    "            new_gens.append(gens[i])\n",
    "            new_refs.append(refs[i])\n",
    "    return new_refs, new_gens\n",
    "\n",
    "\n",
    "def rouge_evaluation(ref, gen):\n",
    "    rouge_score = rouge.get_scores(gen, ref)\n",
    "    r1, r2, rl = 0., 0., 0.\n",
    "    for score in rouge_score:\n",
    "        r1 = r1 + score['rouge-1']['f']\n",
    "        r2 = r2 + score['rouge-2']['f']\n",
    "        rl = rl + score['rouge-l']['f']\n",
    "    r1 /= len(rouge_score)\n",
    "    r2 /= len(rouge_score)\n",
    "    rl /= len(rouge_score)\n",
    "    print (r1, r2, rl)\n",
    "    return r1, r2, rl"
   ]
  },
  {
   "cell_type": "code",
   "execution_count": 80,
   "id": "c57a4772",
   "metadata": {
    "pycharm": {
     "name": "#%%\n"
    }
   },
   "outputs": [
    {
     "name": "stderr",
     "output_type": "stream",
     "text": [
      "C:\\Users\\kush5\\AppData\\Local\\Temp\\ipykernel_888\\1670607890.py:11: TqdmDeprecationWarning: This function will be removed in tqdm==5.0.0\n",
      "Please use `tqdm.notebook.tqdm` instead of `tqdm.tqdm_notebook`\n",
      "  for feed_dict in tqdm_notebook(test_data, total = test_n):\n"
     ]
    },
    {
     "data": {
      "application/vnd.jupyter.widget-view+json": {
       "model_id": "2974120aac7747bba396967bd355f283",
       "version_major": 2,
       "version_minor": 0
      },
      "text/plain": [
       "  0%|          | 0/50 [00:00<?, ?it/s]"
      ]
     },
     "metadata": {},
     "output_type": "display_data"
    },
    {
     "name": "stdout",
     "output_type": "stream",
     "text": [
      "0.5283459926872293 0.14496090360978436 0.4170432907200313\n"
     ]
    }
   ],
   "source": [
    "test1_eval_refs, test1_eval_gens = generate_evaluation_sets(coverage=False)\n",
    "test1_r1, test1_r2, test1_rl = rouge_evaluation(test1_eval_refs, test1_eval_gens)"
   ]
  },
  {
   "cell_type": "markdown",
   "id": "28b25bf7",
   "metadata": {
    "pycharm": {
     "name": "#%% md\n"
    }
   },
   "source": [
    "### Train with coverage<a class=\"anchor\" id=\"train-global-1-sub-2\"></a>"
   ]
  },
  {
   "cell_type": "code",
   "execution_count": 82,
   "id": "661bf222",
   "metadata": {
    "pycharm": {
     "name": "#%%\n"
    }
   },
   "outputs": [
    {
     "name": "stdout",
     "output_type": "stream",
     "text": [
      "Start from step 1899\n",
      "Train Epoch 0\n"
     ]
    },
    {
     "data": {
      "application/vnd.jupyter.widget-view+json": {
       "model_id": "f25ddf371cd641a085a040ccc35bb0db",
       "version_major": 2,
       "version_minor": 0
      },
      "text/plain": [
       "  0%|          | 0/1908 [00:00<?, ?it/s]"
      ]
     },
     "metadata": {},
     "output_type": "display_data"
    }
   ],
   "source": [
    "train_max_epoch = 1\n",
    "print (f'Start from step {model.sess.run(model.gen_global_step)}')\n",
    "for i in range(train_max_epoch):\n",
    "    print (f'Train Epoch {i}')\n",
    "    train_data = data.get_next_epoch()\n",
    "    model.train_one_epoch(train_data, data.n_train_batch, coverage_on = True, model_name = 'with_coverage')"
   ]
  },
  {
   "cell_type": "markdown",
   "id": "74923303",
   "metadata": {
    "pycharm": {
     "name": "#%% md\n"
    }
   },
   "source": [
    "#### Generate tokens<a class=\"anchor\" id=\"gen-global-1-sub-2\"></a>"
   ]
  },
  {
   "cell_type": "code",
   "execution_count": 85,
   "id": "df621e06",
   "metadata": {
    "pycharm": {
     "name": "#%%\n"
    }
   },
   "outputs": [
    {
     "name": "stdout",
     "output_type": "stream",
     "text": [
      "Batch: 0\n",
      "\tGeneration: 0\n",
      "\t\tAbstract: republican senator voted border security deal come state large house republican delegation<END>\n",
      "\t\tTitle: Prospects in the House<END>\n",
      "\t\tGenerated: Afghanistan:\n",
      "\t\tScore: -0.8208288046029898\n",
      "\tGeneration: 1\n",
      "\t\tAbstract: danish celebrity chef claus meyer opening restaurant la paz hoping start bolivian food movement rediscover local ingredient<END>\n",
      "\t\tTitle: Prospects in the House<END>\n",
      "\t\tGenerated: Afghanistan:\n",
      "\t\tScore: -0.8298874634962815\n",
      "\tGeneration: 2\n",
      "\t\tAbstract: see latest chart map coronavirus case death hospitalization harris county georgia<END>\n",
      "\t\tTitle: Prospects in the House<END>\n",
      "\t\tGenerated: Afabama Povid Case and Risk Trackers of\n",
      "\t\tScore: -0.5524458885192871\n",
      "\tGeneration: 3\n",
      "\t\tAbstract: detention journalist unspecified security offense first time hamas arrested foreigner since took gaza 2007<END>\n",
      "\t\tTitle: Prospects in the House<END>\n",
      "\t\tGenerated: Aftermath on the\n",
      "\t\tScore: -0.7901968114516315\n",
      "\tGeneration: 4\n",
      "\t\tAbstract: elderly farmer demonstration new delhi<END>\n",
      "\t\tTitle: Prospects in the House<END>\n",
      "\t\tGenerated: Thina: Pounty, Iesults of the Tay of the\n",
      "\t\tScore: -0.9394987152843941\n",
      "\tGeneration: 5\n",
      "\t\tAbstract: disputed presidential runoff led clash demonstrator police call opposition boycott<END>\n",
      "\t\tTitle: Prospects in the House<END>\n",
      "\t\tGenerated: Afghanistan:\n",
      "\t\tScore: -0.8348959409273587\n",
      "\tGeneration: 6\n",
      "\t\tAbstract: international herald tribune<END>\n",
      "\t\tTitle: Prospects in the House<END>\n",
      "\t\tGenerated: Than and Rounty, Iesults of the Teaders in\n",
      "\t\tScore: -0.922599615052689\n",
      "\tGeneration: 7\n",
      "\t\tAbstract: former australian cricketer brett lee icc cricket world cup 2015 trophy new delhi<END>\n",
      "\t\tTitle: Prospects in the House<END>\n",
      "\t\tGenerated: Aftermath of ther\n",
      "\t\tScore: -0.8307949701944987\n",
      "\tGeneration: 8\n",
      "\t\tAbstract: saudi arabia promised cease fighting group could deliver aid million starving yemeni indication would happen monday planned<END>\n",
      "\t\tTitle: Prospects in the House<END>\n",
      "\t\tGenerated: Afghanistan:\n",
      "\t\tScore: -0.833802003126878\n",
      "\tGeneration: 9\n",
      "\t\tAbstract: several near miss democrat taste victory georgia republican fear president trump lackluster number may drag party senate candidate<END>\n",
      "\t\tTitle: Prospects in the House<END>\n",
      "\t\tGenerated: Aftermath on the\n",
      "\t\tScore: -0.8127229914945715\n",
      "\tGeneration: 10\n",
      "\t\tAbstract: many 200 people may abducted connection ethnic fighting 30 000 head cattle stolen<END>\n",
      "\t\tTitle: Prospects in the House<END>\n",
      "\t\tGenerated: Aftermath on the\n",
      "\t\tScore: -0.771519099964815\n",
      "\tGeneration: 11\n",
      "\t\tAbstract: president trump accept nomination general election season officially begin<END>\n",
      "\t\tTitle: Prospects in the House<END>\n",
      "\t\tGenerated: Afghanistan:\n",
      "\t\tScore: -0.8090845254751352\n",
      "\tGeneration: 12\n",
      "\t\tAbstract: politics newsletter real world consequence campaign scare tactic plus surprising volunteer georgia poll florida<END>\n",
      "\t\tTitle: Prospects in the House<END>\n",
      "\t\tGenerated: Afghanistan:\n",
      "\t\tScore: -0.8343593157254733\n",
      "\tGeneration: 13\n",
      "\t\tAbstract: egypt hamas made effort restore calm sunday cross border violence israel smaller palestinian group killed two civilian<END>\n",
      "\t\tTitle: Prospects in the House<END>\n",
      "\t\tGenerated: Aftermath of ther\n",
      "\t\tScore: -0.835058848063151\n",
      "\tGeneration: 14\n",
      "\t\tAbstract: estimate exit poll offer initial indication group voted election night<END>\n",
      "\t\tTitle: Prospects in the House<END>\n",
      "\t\tGenerated: Aftermath on the\n",
      "\t\tScore: -0.7903290916891659\n",
      "\tGeneration: 15\n",
      "\t\tAbstract: company part surge battalion received crash course afghan war began assault last large taliban stronghold helmand province<END>\n",
      "\t\tTitle: Prospects in the House<END>\n",
      "\t\tGenerated: Aftermath of the Tay of the\n",
      "\t\tScore: -0.8362052100045341\n"
     ]
    }
   ],
   "source": [
    "test2_src, test2_ref, test2_gen, test2_scores = generate_top_k_tokens(coverage=True, top_k=1)\n",
    "test2_src_list, test2_ref_list, test2_gen_list = clean_generated_tokens(test2_src, test2_ref, test2_gen)\n",
    "print_cleaned_tokens(test2_src_list, test2_ref_list, test2_gen_list, test2_scores)"
   ]
  },
  {
   "cell_type": "markdown",
   "id": "d2af5d03",
   "metadata": {
    "pycharm": {
     "name": "#%% md\n"
    }
   },
   "source": [
    "#### Rouge Evaluation<a class=\"anchor\" id=\"rouge-global-1-sub-2\"></a>"
   ]
  },
  {
   "cell_type": "code",
   "execution_count": 86,
   "id": "86502080",
   "metadata": {
    "pycharm": {
     "name": "#%%\n"
    }
   },
   "outputs": [
    {
     "name": "stderr",
     "output_type": "stream",
     "text": [
      "C:\\Users\\kush5\\AppData\\Local\\Temp\\ipykernel_888\\1670607890.py:11: TqdmDeprecationWarning: This function will be removed in tqdm==5.0.0\n",
      "Please use `tqdm.notebook.tqdm` instead of `tqdm.tqdm_notebook`\n",
      "  for feed_dict in tqdm_notebook(test_data, total = test_n):\n"
     ]
    },
    {
     "data": {
      "application/vnd.jupyter.widget-view+json": {
       "model_id": "a6bc70a0240544628573e75e71d15a33",
       "version_major": 2,
       "version_minor": 0
      },
      "text/plain": [
       "  0%|          | 0/50 [00:00<?, ?it/s]"
      ]
     },
     "metadata": {},
     "output_type": "display_data"
    },
    {
     "name": "stdout",
     "output_type": "stream",
     "text": [
      "0.49432528823714433 0.1006288352997728 0.3716033682313441\n"
     ]
    }
   ],
   "source": [
    "test2_eval_refs, test2_eval_gens = generate_evaluation_sets(coverage=True)\n",
    "test2_r1, test2_r2, test2_rl = rouge_evaluation(test2_eval_refs, test2_eval_gens)"
   ]
  },
  {
   "cell_type": "markdown",
   "id": "e57fe825",
   "metadata": {
    "pycharm": {
     "name": "#%% md\n"
    }
   },
   "source": [
    "## Train GAN<a class=\"anchor\" id=\"train-global-2\"></a>\n",
    "### Pretrain Discriminator<a class=\"anchor\" id=\"train-global-2-sub-1\"></a>"
   ]
  },
  {
   "cell_type": "code",
   "execution_count": 87,
   "id": "6d80821d",
   "metadata": {
    "pycharm": {
     "name": "#%%\n"
    }
   },
   "outputs": [
    {
     "name": "stdout",
     "output_type": "stream",
     "text": [
      "Start from step 0\n",
      "Train Epoch 0\n"
     ]
    },
    {
     "data": {
      "application/vnd.jupyter.widget-view+json": {
       "model_id": "7f18051b616a44b1b5005838488fdad7",
       "version_major": 2,
       "version_minor": 0
      },
      "text/plain": [
       "  0%|          | 0/1908 [00:00<?, ?it/s]"
      ]
     },
     "metadata": {},
     "output_type": "display_data"
    }
   ],
   "source": [
    "train_max_epoch = 1\n",
    "print (f'Start from step {model.sess.run(model.gen_global_step_2)}')\n",
    "for i in range(train_max_epoch):\n",
    "    print (f'Train Epoch {i}')\n",
    "    train_data = data.get_next_epoch()\n",
    "    model.train_one_epoch_pre_dis(train_data, data.n_train_batch, coverage_on = True)"
   ]
  },
  {
   "cell_type": "markdown",
   "id": "c4bafcfa",
   "metadata": {
    "pycharm": {
     "name": "#%% md\n"
    }
   },
   "source": [
    "#### Generate tokens<a class=\"anchor\" id=\"gen-global-2-sub-1\"></a>"
   ]
  },
  {
   "cell_type": "code",
   "execution_count": 88,
   "id": "92b36de8",
   "metadata": {
    "pycharm": {
     "name": "#%%\n"
    }
   },
   "outputs": [
    {
     "name": "stdout",
     "output_type": "stream",
     "text": [
      "Batch: 0\n",
      "\tGeneration: 0\n",
      "\t\tAbstract: many greek taking hard look country day seeing mismanagement corruption<END>\n",
      "\t\tTitle: Digging Deep and Seeing Greece’s Flaws<END>\n",
      "\t\tGenerated: Aftermath on the\n",
      "\t\tScore: -0.8156286127427045\n",
      "\tGeneration: 1\n",
      "\t\tAbstract: gen sarath fonseka led military campaign ended two decade civil war ran unsuccessfully president freed nearly two year prison<END>\n",
      "\t\tTitle: Digging Deep and Seeing Greece’s Flaws<END>\n",
      "\t\tGenerated: Aftermath of ther\n",
      "\t\tScore: -0.8385739856296115\n",
      "\tGeneration: 2\n",
      "\t\tAbstract: see latest chart map coronavirus case death hospitalization ames area<END>\n",
      "\t\tTitle: Digging Deep and Seeing Greece’s Flaws<END>\n",
      "\t\tGenerated: Afabama Covid Case and Risk Trackers\n",
      "\t\tScore: -0.5203059428447002\n",
      "\tGeneration: 3\n",
      "\t\tAbstract: everyone want democracy sympathizes protest crashing across middle east<END>\n",
      "\t\tTitle: Digging Deep and Seeing Greece’s Flaws<END>\n",
      "\t\tGenerated: Aftermath on the\n",
      "\t\tScore: -0.7647354462567497\n",
      "\tGeneration: 4\n",
      "\t\tAbstract: president trump prime minister justin trudeau canada need work together despite vast difference climate change trade migrant<END>\n",
      "\t\tTitle: Digging Deep and Seeing Greece’s Flaws<END>\n",
      "\t\tGenerated: Aftermath on the\n",
      "\t\tScore: -0.7923805012422449\n",
      "\tGeneration: 5\n",
      "\t\tAbstract: sorin grindeanu former minister communication named prime minister beating candidate would romania first woman first muslim hold post<END>\n",
      "\t\tTitle: Digging Deep and Seeing Greece’s Flaws<END>\n",
      "\t\tGenerated: Aftermath on the\n",
      "\t\tScore: -0.8135464612175437\n",
      "\tGeneration: 6\n",
      "\t\tAbstract: pope benedict xvi decision resign puzzled faithful scholar wonder pope infallible one day fallible next<END>\n",
      "\t\tTitle: Digging Deep and Seeing Greece’s Flaws<END>\n",
      "\t\tGenerated: Aftermath of ther\n",
      "\t\tScore: -0.832253721025255\n",
      "\tGeneration: 7\n",
      "\t\tAbstract: white house said early sure target russia hitting inside syria support president bashar al assad<END>\n",
      "\t\tTitle: Digging Deep and Seeing Greece’s Flaws<END>\n",
      "\t\tGenerated: Afabamanists on the\n",
      "\t\tScore: -0.8995393753051758\n",
      "\tGeneration: 8\n",
      "\t\tAbstract: team mechanic welder heavy machinery operator gathered saturday support vladimir putin happy<END>\n",
      "\t\tTitle: Digging Deep and Seeing Greece’s Flaws<END>\n",
      "\t\tGenerated: Aftermath on the\n",
      "\t\tScore: -0.8062950022080365\n",
      "\tGeneration: 9\n",
      "\t\tAbstract: woman said assaulted approaching group men tuesday ask direction hotel according police<END>\n",
      "\t\tTitle: Digging Deep and Seeing Greece’s Flaws<END>\n",
      "\t\tGenerated: Aftermath of ther\n",
      "\t\tScore: -0.8370549943712022\n",
      "\tGeneration: 10\n",
      "\t\tAbstract: chancellor angela merkel must walk fine line party younger voter increasingly favor gay right older conservative voter<END>\n",
      "\t\tTitle: Digging Deep and Seeing Greece’s Flaws<END>\n",
      "\t\tGenerated: Afghanistan:\n",
      "\t\tScore: -0.8253895686222956\n",
      "\tGeneration: 11\n",
      "\t\tAbstract: watching united state choose president sydney correspondent wonder division end<END>\n",
      "\t\tTitle: Digging Deep and Seeing Greece’s Flaws<END>\n",
      "\t\tGenerated: Aftermath on the\n",
      "\t\tScore: -0.8003060957964729\n",
      "\tGeneration: 12\n",
      "\t\tAbstract: move came israel refusal apologize raid last year nine people died trying break naval blockade gaza<END>\n",
      "\t\tTitle: Digging Deep and Seeing Greece’s Flaws<END>\n",
      "\t\tGenerated: Aftermath of Afgh\n",
      "\t\tScore: -0.8405642509460449\n",
      "\tGeneration: 13\n",
      "\t\tAbstract: president nicolas sarkozy presided ceremony remembrance seven service member killed afghanistan last week<END>\n",
      "\t\tTitle: Digging Deep and Seeing Greece’s Flaws<END>\n",
      "\t\tGenerated: Aftermath of ther\n",
      "\t\tScore: -0.8389831119113498\n",
      "\tGeneration: 14\n",
      "\t\tAbstract: growing array military leader arctic expert lawmaker say united state losing ability patrol safeguard arctic water<END>\n",
      "\t\tTitle: Digging Deep and Seeing Greece’s Flaws<END>\n",
      "\t\tGenerated: Aftermath on the\n",
      "\t\tScore: -0.7932117125567268\n",
      "\tGeneration: 15\n",
      "\t\tAbstract: last three year briton debated brexit sense relief even though country still must decide sort brexit want<END>\n",
      "\t\tTitle: Digging Deep and Seeing Greece’s Flaws<END>\n",
      "\t\tGenerated: Aftermath on the\n",
      "\t\tScore: -0.7791721119600183\n"
     ]
    }
   ],
   "source": [
    "test3_src, test3_ref, test3_gen, test3_scores = generate_top_k_tokens(coverage=True, top_k=1)\n",
    "test3_src_list, test3_ref_list, test3_gen_list = clean_generated_tokens(test3_src, test3_ref, test3_gen)\n",
    "print_cleaned_tokens(test3_src_list, test3_ref_list, test3_gen_list, test3_scores)"
   ]
  },
  {
   "cell_type": "markdown",
   "id": "f3eda911",
   "metadata": {
    "pycharm": {
     "name": "#%% md\n"
    }
   },
   "source": [
    "#### Rouge Evaluation<a class=\"anchor\" id=\"rouge-global-2-sub-1\"></a>"
   ]
  },
  {
   "cell_type": "code",
   "execution_count": 89,
   "id": "d9bcbccb",
   "metadata": {
    "pycharm": {
     "name": "#%%\n"
    }
   },
   "outputs": [
    {
     "name": "stderr",
     "output_type": "stream",
     "text": [
      "C:\\Users\\kush5\\AppData\\Local\\Temp\\ipykernel_888\\1670607890.py:11: TqdmDeprecationWarning: This function will be removed in tqdm==5.0.0\n",
      "Please use `tqdm.notebook.tqdm` instead of `tqdm.tqdm_notebook`\n",
      "  for feed_dict in tqdm_notebook(test_data, total = test_n):\n"
     ]
    },
    {
     "data": {
      "application/vnd.jupyter.widget-view+json": {
       "model_id": "2ed0af4735b1413f881f4f7f4a480c38",
       "version_major": 2,
       "version_minor": 0
      },
      "text/plain": [
       "  0%|          | 0/50 [00:00<?, ?it/s]"
      ]
     },
     "metadata": {},
     "output_type": "display_data"
    },
    {
     "name": "stdout",
     "output_type": "stream",
     "text": [
      "0.49311720341328225 0.09652547784773684 0.3691956659410668\n"
     ]
    }
   ],
   "source": [
    "test3_eval_refs, test3_eval_gens = generate_evaluation_sets(coverage=True)\n",
    "test3_r1, test3_r2, test3_rl = rouge_evaluation(test3_eval_refs, test3_eval_gens)"
   ]
  },
  {
   "cell_type": "markdown",
   "id": "606a2b39",
   "metadata": {
    "pycharm": {
     "name": "#%% md\n"
    }
   },
   "source": [
    "### Adversarial Training<a class=\"anchor\" id=\"train-global-2-sub-2\"></a>"
   ]
  },
  {
   "cell_type": "code",
   "execution_count": 91,
   "id": "ce53e6f2",
   "metadata": {
    "pycharm": {
     "name": "#%%\n"
    }
   },
   "outputs": [
    {
     "name": "stdout",
     "output_type": "stream",
     "text": [
      "Start from step 14\n",
      "Train Epoch 0\n"
     ]
    },
    {
     "data": {
      "application/vnd.jupyter.widget-view+json": {
       "model_id": "f36311412e0a41f9a22df2bbe7643c42",
       "version_major": 2,
       "version_minor": 0
      },
      "text/plain": [
       "  0%|          | 0/1908 [00:00<?, ?it/s]"
      ]
     },
     "metadata": {},
     "output_type": "display_data"
    },
    {
     "name": "stdout",
     "output_type": "stream",
     "text": [
      "Restart Done!\n",
      "Restart Done!\n",
      "Restart Done!\n",
      "Restart Done!\n",
      "Restart Done!\n",
      "Restart Done!\n",
      "Restart Done!\n",
      "Restart Done!\n"
     ]
    }
   ],
   "source": [
    "train_max_epoch = 1                                                                                                                                                                                                                                                                                                                                                                                                                                                                                                                                                                                                                                                                                                                                                                                                                                                                                                                                                                                                                                                                                                                                                                                                                                                                                                                                                                                                                                                                                                                                                                                                                                                                                                                                                                                                                                                                                                                                                                                                                                                                                                                                                                                                                                                                                                                                                                                                                                                                                                                                                                                                                                                                                                                                                                                                                                                                                                                                                                                                                                                                                                                                                                                                                                                                                                                                                                                                                                                                                                                                                                                                                                                                                                                                                                                                                                                                                                                                                                                                                                                                                                                                                                                                                                                                                                                                                                                                                                                                                                                                                                                                                                                                                                                                                                                                                                                                                                                                                                                                                                                                                                                                                                                                                                                                                                                                                                                                                                                                                                                                                                                                                                                                                                                                                                                                                                                                                                                                                                                                                                                                                                                                                                                                                                                                                                                                                                                                                                                                                                                                                                                                                                                                                                                                                                                                                                                                                                                                                                                                                                                                                                                                                                                                                                                                                                                                                                                                                                                                                                                                                                                                                                                                                                                                                                                                                                                                                                                                                                                                                                                                                                                                                                                                                                                                                                                                                                                                                                                                                                                                                                                                                                                                                                                                                                                                                                                                                                                                                                                                                                                                                                                                                                                                                                                                                                                                                                                                                                                                                                                                                                                                                                                                                                                                                                                                                                                                                                                                                                            \n",
    "print (f'Start from step {model.sess.run(model.gen_global_step_2)}')\n",
    "for i in range(train_max_epoch):\n",
    "    print (f'Train Epoch {i}')                                                \n",
    "    train_data = data.get_next_epoch()                                        \n",
    "    model.train_one_epoch_unsup(train_data, data.n_train_batch, coverage_on = True)"
   ]
  },
  {
   "cell_type": "markdown",
   "id": "d239b069",
   "metadata": {
    "pycharm": {
     "name": "#%% md\n"
    }
   },
   "source": [
    "#### Generate Tokens<a class=\"anchor\" id=\"gen-global-2-sub-2\"></a>"
   ]
  },
  {
   "cell_type": "code",
   "execution_count": 94,
   "id": "eaa71902",
   "metadata": {
    "pycharm": {
     "name": "#%%\n"
    }
   },
   "outputs": [
    {
     "name": "stdout",
     "output_type": "stream",
     "text": [
      "Batch: 0\n",
      "\tGeneration: 0\n",
      "\t\tAbstract: call foreigner pause fighting talk rebel increasingly angered government colombo<END>\n",
      "\t\tTitle: Sri Lanka Bars Swede Over Stand on War<END>\n",
      "\t\tGenerated: Tndia Sattler th the\n",
      "\t\tScore: -0.9276477268763951\n",
      "\tGeneration: 1\n",
      "\t\tAbstract: psychiatrist said german archdiocese led future pope benedict xvi ignored warning early 1980s priest accused sexually abusing boy<END>\n",
      "\t\tTitle: Doctor Asserts Church Ignored Abuse Warnings<END>\n",
      "\t\tGenerated: Attacks on the\n",
      "\t\tScore: -0.8075149536132813\n",
      "\tGeneration: 2\n",
      "\t\tAbstract: white house friday released 2015 joint tax return president michelle obama document suggests planning future beyond mr obama white house tenure<END>\n",
      "\t\tTitle: The Obamas’ 2015 Tax Return<END>\n",
      "\t\tGenerated: Attacks on the\n",
      "\t\tScore: -0.7968966801961263\n",
      "\tGeneration: 3\n",
      "\t\tAbstract: tahrir square birthplace uprising place many felt like dream egypt like<END>\n",
      "\t\tTitle: Birthplace of Uprising Welcomes Its Success<END>\n",
      "\t\tGenerated: Attacks on the\n",
      "\t\tScore: -0.7942705790201823\n",
      "\tGeneration: 4\n",
      "\t\tAbstract: child terrified noise finding food challenge rarely power many people yemen beyond dream end fighting<END>\n",
      "\t\tTitle: The Many Miseries of Yemeni Families<END>\n",
      "\t\tGenerated: Indians Pith the Htattle in Ir\n",
      "\t\tScore: -0.9776635939075101\n",
      "\tGeneration: 5\n",
      "\t\tAbstract: reporter ursula gauthier written article criticizing beijing attempt link paris attack ethnic violence china northwest<END>\n",
      "\t\tTitle: China Says It Will Expel French Journalist<END>\n",
      "\t\tGenerated: Attack on the Htate on the\n",
      "\t\tScore: -0.7681929976851852\n",
      "\tGeneration: 6\n",
      "\t\tAbstract: nate silver mitt romney target audience speech republican national convention<END>\n",
      "\t\tTitle: Nate Silver on Romney's Target Audience<END>\n",
      "\t\tGenerated: Attacks on the\n",
      "\t\tScore: -0.8042524973551433\n",
      "\tGeneration: 7\n",
      "\t\tAbstract: china executed two men involvement contamination milk product killed least six infant sickened 300 000 child<END>\n",
      "\t\tTitle: 2 Executed in China for Selling Tainted Milk<END>\n",
      "\t\tGenerated: Attacks on the\n",
      "\t\tScore: -0.8075647989908854\n",
      "\tGeneration: 8\n",
      "\t\tAbstract: bomb embassy string explosion seen attempt strike georgia united state<END>\n",
      "\t\tTitle: U.S. Ties a Russian to Bombings in Georgia<END>\n",
      "\t\tGenerated: Iattle on the\n",
      "\t\tScore: -0.7876383236476353\n",
      "\tGeneration: 9\n",
      "\t\tAbstract: pet goldfish may seem tiny harmless wild take entire ecosystem<END>\n",
      "\t\tTitle: In the Wild, Goldfish Turn From Pet to Pest<END>\n",
      "\t\tGenerated: Attacks on the\n",
      "\t\tScore: -0.7780005772908528\n",
      "\tGeneration: 10\n",
      "\t\tAbstract: r proposed new restriction rein political activity nonprofit social welfare group increased change federal campaign finance law past decade<END>\n",
      "\t\tTitle: How Nonprofits Have Played in Politics<END>\n",
      "\t\tGenerated: Attacks on the\n",
      "\t\tScore: -0.8037520090738932\n",
      "\tGeneration: 11\n",
      "\t\tAbstract: natural gas explosion two week ago delivered deep psychic blow bozeman mont already going difficulty declining economy<END>\n",
      "\t\tTitle: Explosion Wounds Montana Town<END>\n",
      "\t\tGenerated: Indians Pith the State of the\n",
      "\t\tScore: -0.9274494171142578\n",
      "\tGeneration: 12\n",
      "\t\tAbstract: prime minister gordon brown use speech united nation security council thursday offer possibility britain reducing fleet ballistic nuclear missile submarine<END>\n",
      "\t\tTitle: Brown to Offer to Cut British Nuclear Subs<END>\n",
      "\t\tGenerated: Indians Ptate on the State in\n",
      "\t\tScore: -0.9279025395711263\n",
      "\tGeneration: 13\n",
      "\t\tAbstract: mr louis named willie reed testified 1955 trial two men murder emmett till killed following interaction white woman death galvanized civil right movement<END>\n",
      "\t\tTitle: Testimony of Willie Louis<END>\n",
      "\t\tGenerated: Attacks on the\n",
      "\t\tScore: -0.8047676086425781\n",
      "\tGeneration: 14\n",
      "\t\tAbstract: pakistan prime minister said country top intelligence officer would appear court 2008 mumbai attack<END>\n",
      "\t\tTitle: Pakistan Spy Chief to Ignore U.S. Summons<END>\n",
      "\t\tGenerated: Attacks on the\n",
      "\t\tScore: -0.7924755096435547\n",
      "\tGeneration: 15\n",
      "\t\tAbstract: french president said criticism european effort libya leveled robert gate represented unfair statement even correspond kind truth<END>\n",
      "\t\tTitle: Sarkozy Rebuts Gates’s Remarks on Libya Strikes<END>\n",
      "\t\tGenerated: Attacks on the\n",
      "\t\tScore: -0.7998697916666667\n"
     ]
    }
   ],
   "source": [
    "test4_src, test4_ref, test4_gen, test4_scores = generate_top_k_tokens(coverage=True, top_k=1)\n",
    "test4_src_list, test4_ref_list, test4_gen_list = clean_generated_tokens(test4_src, test4_ref, test4_gen)\n",
    "print_cleaned_tokens(test4_src_list, test4_ref_list, test4_gen_list, test4_scores)"
   ]
  },
  {
   "cell_type": "markdown",
   "id": "5cdb0f8c",
   "metadata": {
    "pycharm": {
     "name": "#%% md\n"
    }
   },
   "source": [
    "#### Rouge Evaluation<a class=\"anchor\" id=\"rouge-global-2-sub-2\"></a>"
   ]
  },
  {
   "cell_type": "code",
   "execution_count": 95,
   "id": "c75692b7",
   "metadata": {
    "pycharm": {
     "name": "#%%\n"
    }
   },
   "outputs": [
    {
     "name": "stderr",
     "output_type": "stream",
     "text": [
      "C:\\Users\\kush5\\AppData\\Local\\Temp\\ipykernel_888\\1670607890.py:11: TqdmDeprecationWarning: This function will be removed in tqdm==5.0.0\n",
      "Please use `tqdm.notebook.tqdm` instead of `tqdm.tqdm_notebook`\n",
      "  for feed_dict in tqdm_notebook(test_data, total = test_n):\n"
     ]
    },
    {
     "data": {
      "application/vnd.jupyter.widget-view+json": {
       "model_id": "7f8f821a3c19446d89e809cfc3d0487c",
       "version_major": 2,
       "version_minor": 0
      },
      "text/plain": [
       "  0%|          | 0/50 [00:00<?, ?it/s]"
      ]
     },
     "metadata": {},
     "output_type": "display_data"
    },
    {
     "name": "stdout",
     "output_type": "stream",
     "text": [
      "0.5139641795130951 0.137870443942698 0.3837935762467773\n"
     ]
    }
   ],
   "source": [
    "test4_eval_refs, test4_eval_gens = generate_evaluation_sets(coverage=True)\n",
    "test4_r1, test4_r2, test4_rl = rouge_evaluation(test4_eval_refs, test4_eval_gens)"
   ]
  },
  {
   "cell_type": "code",
   "execution_count": 96,
   "id": "7ad055a8",
   "metadata": {},
   "outputs": [],
   "source": [
    "test_data = data.get_next_epoch_test()\n",
    "src, ref, gen, tokens, scores, attens, gt_attens = None, None, None, None, None, None, None\n",
    "for feed_dict in train_data:\n",
    "    real, fake, real_len, fake_len = model.sess.run(\n",
    "        [model.real_reward, model.fake_reward, model.sum_len, model.tokens_len], feed_dict=feed_dict)\n",
    "    print(np.mean(real[1, 0:int(real_len[1])]))\n",
    "    print(np.mean(fake[1, 0:int(fake_len[1])]))\n",
    "    break"
   ]
  },
  {
   "cell_type": "markdown",
   "id": "d4408dae",
   "metadata": {
    "pycharm": {
     "name": "#%% md\n"
    }
   },
   "source": [
    "## Analysis & Conclusion<a class=\"anchor\" id=\"analysis-conclusion\"></a>"
   ]
  },
  {
   "cell_type": "code",
   "execution_count": 97,
   "id": "0a88efb5",
   "metadata": {
    "pycharm": {
     "name": "#%%\n"
    }
   },
   "outputs": [
    {
     "name": "stdout",
     "output_type": "stream",
     "text": [
      "Requirement already satisfied: pandadoc in a:\\shane_stuff\\text-generation-gan\\venv\\lib\\site-packages (0.1.0)"
     ]
    },
    {
     "name": "stderr",
     "output_type": "stream",
     "text": [
      "WARNING: You are using pip version 21.3.1; however, version 22.3.1 is available.\n",
      "You should consider upgrading via the 'A:\\SHANE_STUFF\\Text-Generation-GAN\\venv\\Scripts\\python.exe -m pip install --upgrade pip' command.\n"
     ]
    },
    {
     "name": "stdout",
     "output_type": "stream",
     "text": [
      "\n"
     ]
    }
   ],
   "source": []
  },
  {
   "cell_type": "markdown",
   "id": "e18d5923",
   "metadata": {
    "pycharm": {
     "name": "#%% md\n"
    }
   },
   "source": [
    "## Limitations & Future Work<a class=\"anchor\" id=\"limit-future\"></a>"
   ]
  },
  {
   "cell_type": "code",
   "execution_count": null,
   "id": "4d2ccb98",
   "metadata": {
    "pycharm": {
     "name": "#%%\n"
    }
   },
   "outputs": [],
   "source": []
  }
 ],
 "metadata": {
  "kernelspec": {
   "display_name": "Python 3 (ipykernel)",
   "language": "python",
   "name": "python3"
  },
  "language_info": {
   "codemirror_mode": {
    "name": "ipython",
    "version": 3
   },
   "file_extension": ".py",
   "mimetype": "text/x-python",
   "name": "python",
   "nbconvert_exporter": "python",
   "pygments_lexer": "ipython3",
   "version": "3.10.9"
  }
 },
 "nbformat": 4,
 "nbformat_minor": 5
}