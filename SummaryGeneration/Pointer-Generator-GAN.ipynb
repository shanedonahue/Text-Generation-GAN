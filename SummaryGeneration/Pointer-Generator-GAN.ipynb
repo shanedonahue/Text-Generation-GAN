{
 "cells": [
  {
   "cell_type": "code",
   "execution_count": 1,
   "id": "9b0a167c",
   "metadata": {
    "scrolled": true
   },
   "outputs": [
    {
     "name": "stderr",
     "output_type": "stream",
     "text": [
      "/Users/shanedonahue/Dropbox/WPI/Senior/Fall/NLP/Text-Generation-GAN/SummaryGeneration/model.py:214: UserWarning: `tf.nn.rnn_cell.LSTMCell` is deprecated and will be removed in a future version. This class is equivalent as `tf.keras.layers.LSTMCell`, and will be replaced by that in Tensorflow 2.0.\n",
      "  self.enc_fw_unit = tf.compat.v1.nn.rnn_cell.LSTMCell(self.num_unit, name='encoder_forward_cell')\n",
      "/Users/shanedonahue/Dropbox/WPI/Senior/Fall/NLP/Text-Generation-GAN/SummaryGeneration/model.py:215: UserWarning: `tf.nn.rnn_cell.LSTMCell` is deprecated and will be removed in a future version. This class is equivalent as `tf.keras.layers.LSTMCell`, and will be replaced by that in Tensorflow 2.0.\n",
      "  self.enc_bw_unit = tf.compat.v1.nn.rnn_cell.LSTMCell(self.num_unit, name='encoder_backward_cell')\n",
      "/Users/shanedonahue/Dropbox/WPI/Senior/Fall/NLP/Text-Generation-GAN/SummaryGeneration/model.py:250: UserWarning: `tf.nn.rnn_cell.LSTMCell` is deprecated and will be removed in a future version. This class is equivalent as `tf.keras.layers.LSTMCell`, and will be replaced by that in Tensorflow 2.0.\n",
      "  self.dec_unit = tf.compat.v1.nn.rnn_cell.LSTMCell(self.num_unit, state_is_tuple=False, name='decoder_cell')\n",
      "/Users/shanedonahue/Dropbox/WPI/Senior/Fall/NLP/Text-Generation-GAN/SummaryGeneration/model.py:495: UserWarning: `tf.nn.rnn_cell.LSTMCell` is deprecated and will be removed in a future version. This class is equivalent as `tf.keras.layers.LSTMCell`, and will be replaced by that in Tensorflow 2.0.\n",
      "  self.bas_enc_unit = tf.compat.v1.nn.rnn_cell.LSTMCell(self.num_unit, name='bas_enc_unit')\n",
      "/Users/shanedonahue/Dropbox/WPI/Senior/Fall/NLP/Text-Generation-GAN/SummaryGeneration/model.py:497: UserWarning: `tf.nn.rnn_cell.LSTMCell` is deprecated and will be removed in a future version. This class is equivalent as `tf.keras.layers.LSTMCell`, and will be replaced by that in Tensorflow 2.0.\n",
      "  self.bas_dec_unit = tf.compat.v1.nn.rnn_cell.LSTMCell(self.num_unit, name='bas_dec_unit')\n",
      "2022-12-08 14:31:11.948040: I tensorflow/compiler/mlir/mlir_graph_optimization_pass.cc:354] MLIR V1 optimization pass is not enabled\n",
      "2022-12-08 14:31:12.077197: W tensorflow/core/platform/profile_utils/cpu_utils.cc:128] Failed to get CPU frequency: 0 Hz\n"
     ]
    },
    {
     "name": "stdout",
     "output_type": "stream",
     "text": [
      "Restore Model from ./model/pointer_cov_supervised-1250\n"
     ]
    }
   ],
   "source": [
    "from data import Data\n",
    "from model import SummaryModel\n",
    "import argparse\n",
    "\n",
    "import tensorflow as tf\n",
    "tf.compat.v1.logging.set_verbosity('ERROR')\n",
    "\n",
    "\n",
    "parser = argparse.ArgumentParser(description = 'Train/Test summarization model', formatter_class = argparse.ArgumentDefaultsHelpFormatter)\n",
    "\n",
    "# Import Setting\n",
    "parser.add_argument(\"--doc_file\", type = str, default = './data/doc.p', help = 'path to document file')\n",
    "parser.add_argument(\"--vocab_file\", type = str, default = './data/vocab.p', help = 'path to vocabulary file')\n",
    "parser.add_argument(\"--emb_file\", type = str, default = './data/emb.p', help = 'path to embedding file')\n",
    "parser.add_argument(\"--src_time\", type = int, default = 1000, help = 'maximal # of time steps in source text')\n",
    "parser.add_argument(\"--sum_time\", type = int, default = 120, help = 'maximal # of time steps in summary')\n",
    "parser.add_argument(\"--max_oov_bucket\", type = int, default = 280, help = 'maximal # of out-of-vocabulary word in one summary')\n",
    "parser.add_argument(\"--train_ratio\", type = float, default = 0.9, help = 'ratio of training data')\n",
    "parser.add_argument(\"--seed\", type = int, default = 888, help = 'seed for spliting data')\n",
    "\n",
    "# Saving Setting\n",
    "parser.add_argument(\"--log\", type = str, default = './log/', help = 'logging directory')\n",
    "parser.add_argument(\"--save\", type = str, default = './model/', help = 'model saving directory')\n",
    "parser.add_argument(\"--load_pretrain\", type = bool, default = False, help = 'whether load from old version pre-trained model')\n",
    "parser.add_argument(\"--checkpoint\", type = str, help = 'path to checkpoint point')\n",
    "parser.add_argument(\"--autosearch\", type = bool, default = False, help = \"[NOT AVAILABLE] Set 'True' if searching for latest checkpoint\")\n",
    "parser.add_argument(\"--save_interval\", type = int, default = 2000, help = \"Save interval for training\")\n",
    "\n",
    "# Hyperparameter Setting\n",
    "parser.add_argument(\"--batch_size\", type = int, default = 16, help = 'number of samples in one batch')\n",
    "parser.add_argument(\"--gen_lr\", type = float, default = 1e-3, help = 'learning rate for generator')\n",
    "parser.add_argument(\"--dis_lr\", type = float, default = 1e-3, help = 'learning rate for discriminator')\n",
    "parser.add_argument(\"--cov_weight\", type = float, default = 1., help = 'weight for coverage loss');\n",
    "\n",
    "params = vars(parser.parse_args([]))\n",
    "\n",
    "params['load_pretrain'] = True\n",
    "params['checkpoint'] = './model/pointer_cov_supervised-1250' # Uncomment when requiring reloading model\n",
    "\n",
    "model = SummaryModel(**params)\n",
    "data = Data(**params)\n"
   ]
  },
  {
   "cell_type": "markdown",
   "id": "cf798efb",
   "metadata": {},
   "source": [
    "### Train Model\n",
    "#### Train without coverage"
   ]
  },
  {
   "cell_type": "code",
   "execution_count": null,
   "id": "67cef49d",
   "metadata": {},
   "outputs": [],
   "source": [
    "train_max_epoch = 10\n",
    "print (f'Start from step {model.sess.run(model.gen_global_step)}')\n",
    "for i in range(train_max_epoch):\n",
    "    print (f'Train Epoch {i}')\n",
    "    train_data = data.get_next_epoch()\n",
    "    model.train_one_epoch(train_data, data.n_train_batch, coverage_on = False)"
   ]
  },
  {
   "cell_type": "markdown",
   "id": "25601a58",
   "metadata": {},
   "source": [
    "#### Train with coverage"
   ]
  },
  {
   "cell_type": "code",
   "execution_count": null,
   "id": "ec704f46",
   "metadata": {},
   "outputs": [],
   "source": [
    "train_max_epoch = 2\n",
    "print (f'Start from step {model.sess.run(model.gen_global_step)}')\n",
    "for i in range(train_max_epoch):\n",
    "    print (f'Train Epoch {i}')\n",
    "    train_data = data.get_next_epoch()\n",
    "    model.train_one_epoch(train_data, data.n_train_batch, coverage_on = True, model_name = 'with_coverage')"
   ]
  },
  {
   "cell_type": "markdown",
   "id": "104bcae7",
   "metadata": {},
   "source": [
    "#### Train with GAN (Pretrain Discriminator)"
   ]
  },
  {
   "cell_type": "code",
   "execution_count": null,
   "id": "3d3c4704",
   "metadata": {},
   "outputs": [],
   "source": [
    "train_max_epoch = 2\n",
    "print (f'Start from step {model.sess.run(model.gen_global_step_2)}')\n",
    "for i in range(train_max_epoch):\n",
    "    print (f'Train Epoch {i}')\n",
    "    train_data = data.get_next_epoch()\n",
    "    model.train_one_epoch_pre_dis(train_data, data.n_train_batch, coverage_on = True)"
   ]
  },
  {
   "cell_type": "markdown",
   "id": "24040853",
   "metadata": {},
   "source": [
    "#### Train with GAN (Adversarial Training)"
   ]
  },
  {
   "cell_type": "code",
   "execution_count": null,
   "id": "2177fee7",
   "metadata": {},
   "outputs": [],
   "source": [
    "train_max_epoch = 12\n",
    "print (f'Start from step {model.sess.run(model.gen_global_step_2)}')\n",
    "for i in range(train_max_epoch):\n",
    "    print (f'Train Epoch {i}')\n",
    "    train_data = data.get_next_epoch()\n",
    "    model.train_one_epoch_unsup(train_data, data.n_train_batch, coverage_on = True)"
   ]
  },
  {
   "cell_type": "code",
   "execution_count": null,
   "id": "63953ddf",
   "metadata": {},
   "outputs": [],
   "source": [
    "model.sess.run(model.real_reward, feed_dict = feed_dict)"
   ]
  },
  {
   "cell_type": "code",
   "execution_count": null,
   "id": "6a0608cc",
   "metadata": {},
   "outputs": [],
   "source": [
    "model._save_model(4, 'cov_after_4_epoch')"
   ]
  },
  {
   "cell_type": "code",
   "execution_count": null,
   "id": "dc5520ad",
   "metadata": {},
   "outputs": [],
   "source": [
    "from rouge import Rouge\n",
    "rouge = Rouge()\n",
    "\n"
   ]
  }
 ],
 "metadata": {
  "kernelspec": {
   "display_name": "Python 3 (ipykernel)",
   "language": "python",
   "name": "python3"
  },
  "language_info": {
   "codemirror_mode": {
    "name": "ipython",
    "version": 3
   },
   "file_extension": ".py",
   "mimetype": "text/x-python",
   "name": "python",
   "nbconvert_exporter": "python",
   "pygments_lexer": "ipython3",
   "version": "3.9.15"
  }
 },
 "nbformat": 4,
 "nbformat_minor": 5
}
